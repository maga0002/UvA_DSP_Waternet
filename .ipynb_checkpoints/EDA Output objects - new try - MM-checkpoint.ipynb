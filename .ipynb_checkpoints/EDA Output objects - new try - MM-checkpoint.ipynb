{
 "cells": [
  {
   "cell_type": "code",
   "execution_count": 107,
   "metadata": {},
   "outputs": [],
   "source": [
    "import pandas as pd\n",
    "import numpy as np\n",
    "import matplotlib.pyplot as plt\n",
    "import descartes\n",
    "from shapely.geometry import Point, Polygon\n",
    "import os\n",
    "import datetime\n",
    "import sklearn\n",
    "from sklearn.ensemble import RandomForestClassifier\n",
    "import seaborn as sns\n",
    "\n",
    "import pandas as pd\n",
    "import numpy as np\n",
    "import seaborn as sns\n",
    "import matplotlib.pyplot as plt\n",
    "from datetime import datetime, timezone\n",
    "\n",
    "import statsmodels.api as sm\n",
    "from statsmodels.graphics.tsaplots import plot_pacf\n",
    "from statsmodels.graphics.tsaplots import plot_acf\n",
    "from statsmodels.tsa.stattools import acf, pacf, adfuller\n",
    "from statsmodels.tsa.statespace.tools import diff\n",
    "from statsmodels.tsa.seasonal import seasonal_decompose\n",
    "\n"
   ]
  },
  {
   "cell_type": "code",
   "execution_count": 175,
   "metadata": {},
   "outputs": [],
   "source": [
    "pd.options.display.max_columns = None\n",
    "%matplotlib inline\n",
    "sns.set(style=\"darkgrid\")\n",
    "random_seed = 42"
   ]
  },
  {
   "cell_type": "code",
   "execution_count": 108,
   "metadata": {},
   "outputs": [],
   "source": [
    "chd = os.chdir('C:/Users/UvA/Waternet/data/')\n",
    "CURR_DIR = os.getcwd()\n",
    "\n",
    "pd.set_option('display.max_rows', 500)\n",
    "pd.set_option('display.max_columns', 500)\n",
    "pd.set_option('display.width', 1000)"
   ]
  },
  {
   "cell_type": "code",
   "execution_count": 111,
   "metadata": {},
   "outputs": [],
   "source": [
    "# Read data  \n",
    "#df = pd.read_excel(CURR_DIR + '\\current\\Output_AlleObjecten_20191231.xlsx', sheet_name='Details')\n",
    "df = pd.read_excel(CURR_DIR + '\\current\\Output_Objecten_Jaarverbruik_2019.xlsx', sheet_name='Details')"
   ]
  },
  {
   "cell_type": "code",
   "execution_count": 112,
   "metadata": {},
   "outputs": [],
   "source": [
    "budf = df\n",
    "data = budf\n",
    "df = data"
   ]
  },
  {
   "cell_type": "code",
   "execution_count": 113,
   "metadata": {},
   "outputs": [],
   "source": [
    "df = df[(df['OBJECT_TYPE_NAAM'] != 'ENG')]\n",
    "df = df[(df['OBJECT_TYPE_NAAM'] != 'IND')]\n",
    "df = df[(df['OBJECT_TYPE_NAAM'] != 'GZB')]"
   ]
  },
  {
   "cell_type": "code",
   "execution_count": 114,
   "metadata": {},
   "outputs": [
    {
     "name": "stdout",
     "output_type": "stream",
     "text": [
      "<class 'pandas.core.frame.DataFrame'>\n",
      "Int64Index: 503685 entries, 18 to 503892\n",
      "Data columns (total 11 columns):\n",
      " #   Column                        Non-Null Count   Dtype  \n",
      "---  ------                        --------------   -----  \n",
      " 0   PEILDATUM                     503685 non-null  object \n",
      " 1   PEILDATUM_BEGIN               503685 non-null  object \n",
      " 2   PEILDATUM_EIND                503685 non-null  object \n",
      " 3   OBJECT_TYPE_NAAM              503685 non-null  object \n",
      " 4   OBJECT_TYPE_SINDS             502773 non-null  object \n",
      " 5   OBJECT_TYPE_NIEUW             503685 non-null  object \n",
      " 6   OBJECT_TYPE_NIEUW_GROEPERING  503685 non-null  object \n",
      " 7   OBJECT_STATUS_NAAM            503684 non-null  object \n",
      " 8   OBJECT_STATUS_SINDS           473934 non-null  object \n",
      " 9   OBJECT_JAARVERBRUIK           381852 non-null  float64\n",
      " 10  OBJECT_#METINGEN              381852 non-null  float64\n",
      "dtypes: float64(2), object(9)\n",
      "memory usage: 46.1+ MB\n"
     ]
    }
   ],
   "source": [
    "df.info()"
   ]
  },
  {
   "cell_type": "code",
   "execution_count": 115,
   "metadata": {},
   "outputs": [
    {
     "data": {
      "image/png": "[encoded data removed]",
      "text/plain": [
       "<Figure size 720x432 with 1 Axes>"
      ]
     },
     "metadata": {
      "needs_background": "light"
     },
     "output_type": "display_data"
    }
   ],
   "source": [
    "variables = df.columns\n",
    "count = []\n",
    "for variable in variables:\n",
    "    length = df[variable].count()\n",
    "    count.append(length)\n",
    "   \n",
    "count_pct = np.round(100 * pd.Series(count) / len(df), 2)\n",
    "#Plot number of available data per variable\n",
    "plt.figure(figsize=(10,6))\n",
    "plt.barh(variables, count_pct)\n",
    "plt.title('Count of available data in percent', fontsize=15)\n",
    "plt.show()"
   ]
  },
  {
   "cell_type": "code",
   "execution_count": 116,
   "metadata": {},
   "outputs": [
    {
     "name": "stdout",
     "output_type": "stream",
     "text": [
      "Entries with zero #METINGEN:  0\n",
      "Entries with zero #METINGEN:  121833\n",
      "Other columns? PEILDATUM                            0\n",
      "PEILDATUM_BEGIN                      0\n",
      "PEILDATUM_EIND                       0\n",
      "OBJECT_TYPE_NAAM                     0\n",
      "OBJECT_TYPE_SINDS                  912\n",
      "OBJECT_TYPE_NIEUW                    0\n",
      "OBJECT_TYPE_NIEUW_GROEPERING         0\n",
      "OBJECT_STATUS_NAAM                   1\n",
      "OBJECT_STATUS_SINDS              29751\n",
      "OBJECT_JAARVERBRUIK             121833\n",
      "OBJECT_#METINGEN                121833\n",
      "dtype: int64\n"
     ]
    }
   ],
   "source": [
    "#number of empty metingen\n",
    "print(\"Entries with zero #METINGEN: \", len(df[df['OBJECT_#METINGEN'] == 0]))\n",
    "print(\"Entries with zero #METINGEN: \", len(df[df['OBJECT_#METINGEN'].isnull()]))\n",
    "print(\"Other columns?\",df.isnull().sum())"
   ]
  },
  {
   "cell_type": "code",
   "execution_count": 117,
   "metadata": {},
   "outputs": [],
   "source": [
    "df = df[df['OBJECT_#METINGEN'].notna()]"
   ]
  },
  {
   "cell_type": "code",
   "execution_count": 119,
   "metadata": {},
   "outputs": [],
   "source": [
    "#df.drop(columns=[\"OBJECT_TYPE_TOT\",\"OBJECT_STATUS_TOT\"], inplace=True)"
   ]
  },
  {
   "cell_type": "code",
   "execution_count": 120,
   "metadata": {},
   "outputs": [],
   "source": [
    "df = df.fillna(0)"
   ]
  },
  {
   "cell_type": "code",
   "execution_count": 121,
   "metadata": {},
   "outputs": [
    {
     "name": "stdout",
     "output_type": "stream",
     "text": [
      "<class 'pandas.core.frame.DataFrame'>\n",
      "Int64Index: 381852 entries, 18 to 382044\n",
      "Data columns (total 11 columns):\n",
      " #   Column                        Non-Null Count   Dtype  \n",
      "---  ------                        --------------   -----  \n",
      " 0   PEILDATUM                     381852 non-null  object \n",
      " 1   PEILDATUM_BEGIN               381852 non-null  object \n",
      " 2   PEILDATUM_EIND                381852 non-null  object \n",
      " 3   OBJECT_TYPE_NAAM              381852 non-null  object \n",
      " 4   OBJECT_TYPE_SINDS             381852 non-null  object \n",
      " 5   OBJECT_TYPE_NIEUW             381852 non-null  object \n",
      " 6   OBJECT_TYPE_NIEUW_GROEPERING  381852 non-null  object \n",
      " 7   OBJECT_STATUS_NAAM            381852 non-null  object \n",
      " 8   OBJECT_STATUS_SINDS           381852 non-null  object \n",
      " 9   OBJECT_JAARVERBRUIK           381852 non-null  float64\n",
      " 10  OBJECT_#METINGEN              381852 non-null  float64\n",
      "dtypes: float64(2), object(9)\n",
      "memory usage: 35.0+ MB\n"
     ]
    }
   ],
   "source": [
    "df.info()"
   ]
  },
  {
   "cell_type": "code",
   "execution_count": 122,
   "metadata": {},
   "outputs": [
    {
     "data": {
      "image/png": "[encoded data removed]",
      "text/plain": [
       "<Figure size 720x432 with 1 Axes>"
      ]
     },
     "metadata": {
      "needs_background": "light"
     },
     "output_type": "display_data"
    }
   ],
   "source": [
    "variables = df.columns\n",
    "count = []\n",
    "for variable in variables:\n",
    "    length = df[variable].count()\n",
    "    count.append(length)\n",
    "   \n",
    "count_pct = np.round(100 * pd.Series(count) / len(df), 2)\n",
    "#Plot number of available data per variable\n",
    "plt.figure(figsize=(10,6))\n",
    "plt.barh(variables, count_pct)\n",
    "plt.title('Count of available data in percent', fontsize=15)\n",
    "plt.show()"
   ]
  },
  {
   "cell_type": "code",
   "execution_count": 123,
   "metadata": {},
   "outputs": [
    {
     "data": {
      "image/png": "[encoded data removed]",
      "text/plain": [
       "<Figure size 1080x432 with 1 Axes>"
      ]
     },
     "metadata": {
      "needs_background": "light"
     },
     "output_type": "display_data"
    }
   ],
   "source": [
    "#Set the size of the plot\n",
    "plt.figure(figsize=(15,6))\n",
    "\n",
    "# Plot the data and configure the settings\n",
    "sns.boxplot(x='OBJECT_JAARVERBRUIK', data=df)\n",
    "plt.ticklabel_format(style='plain', axis='x')\n",
    "plt.title('Boxplot of jaarverbruik')\n",
    "plt.show()"
   ]
  },
  {
   "cell_type": "code",
   "execution_count": 128,
   "metadata": {
    "scrolled": false
   },
   "outputs": [
    {
     "data": {
      "text/html": [
       "<div>\n",
       "<style scoped>\n",
       "    .dataframe tbody tr th:only-of-type {\n",
       "        vertical-align: middle;\n",
       "    }\n",
       "\n",
       "    .dataframe tbody tr th {\n",
       "        vertical-align: top;\n",
       "    }\n",
       "\n",
       "    .dataframe thead th {\n",
       "        text-align: right;\n",
       "    }\n",
       "</style>\n",
       "<table border=\"1\" class=\"dataframe\">\n",
       "  <thead>\n",
       "    <tr style=\"text-align: right;\">\n",
       "      <th></th>\n",
       "      <th>PEILDATUM</th>\n",
       "      <th>PEILDATUM_BEGIN</th>\n",
       "      <th>PEILDATUM_EIND</th>\n",
       "      <th>OBJECT_TYPE_NAAM</th>\n",
       "      <th>OBJECT_TYPE_SINDS</th>\n",
       "      <th>OBJECT_TYPE_NIEUW</th>\n",
       "      <th>OBJECT_TYPE_NIEUW_GROEPERING</th>\n",
       "      <th>OBJECT_STATUS_NAAM</th>\n",
       "      <th>OBJECT_STATUS_SINDS</th>\n",
       "      <th>OBJECT_JAARVERBRUIK</th>\n",
       "      <th>OBJECT_#METINGEN</th>\n",
       "    </tr>\n",
       "  </thead>\n",
       "  <tbody>\n",
       "    <tr>\n",
       "      <th>18</th>\n",
       "      <td>2019-12-31</td>\n",
       "      <td>2019-01-01</td>\n",
       "      <td>2019-12-31 23:59:59</td>\n",
       "      <td>KZB</td>\n",
       "      <td>2011-02-25 00:00:00.000</td>\n",
       "      <td>Mega</td>\n",
       "      <td>Bemeten</td>\n",
       "      <td>Actief</td>\n",
       "      <td>2011-02-26 00:00:00.000</td>\n",
       "      <td>116841.0</td>\n",
       "      <td>1.0</td>\n",
       "    </tr>\n",
       "  </tbody>\n",
       "</table>\n",
       "</div>"
      ],
      "text/plain": [
       "    PEILDATUM PEILDATUM_BEGIN      PEILDATUM_EIND OBJECT_TYPE_NAAM        OBJECT_TYPE_SINDS OBJECT_TYPE_NIEUW OBJECT_TYPE_NIEUW_GROEPERING OBJECT_STATUS_NAAM      OBJECT_STATUS_SINDS  OBJECT_JAARVERBRUIK  OBJECT_#METINGEN\n",
       "18 2019-12-31      2019-01-01 2019-12-31 23:59:59              KZB  2011-02-25 00:00:00.000              Mega                      Bemeten             Actief  2011-02-26 00:00:00.000             116841.0               1.0"
      ]
     },
     "execution_count": 128,
     "metadata": {},
     "output_type": "execute_result"
    }
   ],
   "source": [
    "df.head(1)"
   ]
  },
  {
   "cell_type": "code",
   "execution_count": 135,
   "metadata": {},
   "outputs": [],
   "source": [
    "df['PEILDATUM'] = pd.to_datetime(df['PEILDATUM'])\n",
    "df['PEILDATUM_BEGIN'] = pd.to_datetime(df['PEILDATUM_BEGIN'])\n",
    "df['PEILDATUM_EIND'] = pd.to_datetime(df['PEILDATUM_EIND'])\n",
    "df['OBJECT_TYPE_SINDS'] = pd.to_datetime(df['OBJECT_TYPE_SINDS'])\n",
    "#df['OBJECT_TYPE_SINDS (aanwezig aansluiting/object)'] = pd.to_datetime(df['OBJECT_TYPE_SINDS (aanwezig aansluiting/object)'])\n",
    "#df['OBJECT_STATUS_SINDS (opgevoerde huidige klant)'] = pd.to_datetime(df['OBJECT_STATUS_SINDS (opgevoerde huidige klant)'])"
   ]
  },
  {
   "cell_type": "code",
   "execution_count": 136,
   "metadata": {},
   "outputs": [
    {
     "name": "stdout",
     "output_type": "stream",
     "text": [
      "<class 'pandas.core.frame.DataFrame'>\n",
      "Int64Index: 381852 entries, 18 to 382044\n",
      "Data columns (total 11 columns):\n",
      " #   Column                        Non-Null Count   Dtype         \n",
      "---  ------                        --------------   -----         \n",
      " 0   PEILDATUM                     381852 non-null  datetime64[ns]\n",
      " 1   PEILDATUM_BEGIN               381852 non-null  datetime64[ns]\n",
      " 2   PEILDATUM_EIND                381852 non-null  datetime64[ns]\n",
      " 3   OBJECT_TYPE_NAAM              381852 non-null  object        \n",
      " 4   OBJECT_TYPE_SINDS             381852 non-null  datetime64[ns]\n",
      " 5   OBJECT_TYPE_NIEUW             381852 non-null  object        \n",
      " 6   OBJECT_TYPE_NIEUW_GROEPERING  381852 non-null  object        \n",
      " 7   OBJECT_STATUS_NAAM            381852 non-null  object        \n",
      " 8   OBJECT_STATUS_SINDS           381852 non-null  object        \n",
      " 9   OBJECT_JAARVERBRUIK           381852 non-null  float64       \n",
      " 10  OBJECT_#METINGEN              381852 non-null  float64       \n",
      "dtypes: datetime64[ns](4), float64(2), object(5)\n",
      "memory usage: 35.0+ MB\n"
     ]
    }
   ],
   "source": [
    "df.info()"
   ]
  },
  {
   "cell_type": "code",
   "execution_count": 164,
   "metadata": {},
   "outputs": [],
   "source": [
    "#to be sure..\n",
    "df = df.loc[data.OBJECT_TYPE_SINDS.between('2010-01-01', '2020-08-31')]"
   ]
  },
  {
   "cell_type": "code",
   "execution_count": 179,
   "metadata": {},
   "outputs": [],
   "source": [
    "df2 = df.filter([\"OBJECT_TYPE_SINDS\", \"OBJECT_JAARVERBRUIK\"]) \n"
   ]
  },
  {
   "cell_type": "code",
   "execution_count": 180,
   "metadata": {},
   "outputs": [
    {
     "data": {
      "text/html": [
       "<div>\n",
       "<style scoped>\n",
       "    .dataframe tbody tr th:only-of-type {\n",
       "        vertical-align: middle;\n",
       "    }\n",
       "\n",
       "    .dataframe tbody tr th {\n",
       "        vertical-align: top;\n",
       "    }\n",
       "\n",
       "    .dataframe thead th {\n",
       "        text-align: right;\n",
       "    }\n",
       "</style>\n",
       "<table border=\"1\" class=\"dataframe\">\n",
       "  <thead>\n",
       "    <tr style=\"text-align: right;\">\n",
       "      <th></th>\n",
       "      <th>OBJECT_TYPE_SINDS</th>\n",
       "      <th>OBJECT_JAARVERBRUIK</th>\n",
       "    </tr>\n",
       "  </thead>\n",
       "  <tbody>\n",
       "    <tr>\n",
       "      <th>18</th>\n",
       "      <td>2011-02-25</td>\n",
       "      <td>116841.0</td>\n",
       "    </tr>\n",
       "    <tr>\n",
       "      <th>19</th>\n",
       "      <td>2011-12-21</td>\n",
       "      <td>116516.0</td>\n",
       "    </tr>\n",
       "    <tr>\n",
       "      <th>20</th>\n",
       "      <td>2016-01-14</td>\n",
       "      <td>92658.0</td>\n",
       "    </tr>\n",
       "    <tr>\n",
       "      <th>31</th>\n",
       "      <td>2017-08-10</td>\n",
       "      <td>62291.0</td>\n",
       "    </tr>\n",
       "    <tr>\n",
       "      <th>34</th>\n",
       "      <td>2010-02-18</td>\n",
       "      <td>57472.0</td>\n",
       "    </tr>\n",
       "  </tbody>\n",
       "</table>\n",
       "</div>"
      ],
      "text/plain": [
       "   OBJECT_TYPE_SINDS  OBJECT_JAARVERBRUIK\n",
       "18        2011-02-25             116841.0\n",
       "19        2011-12-21             116516.0\n",
       "20        2016-01-14              92658.0\n",
       "31        2017-08-10              62291.0\n",
       "34        2010-02-18              57472.0"
      ]
     },
     "execution_count": 180,
     "metadata": {},
     "output_type": "execute_result"
    }
   ],
   "source": [
    "df2.head()"
   ]
  },
  {
   "cell_type": "code",
   "execution_count": 181,
   "metadata": {},
   "outputs": [
    {
     "data": {
      "text/plain": [
       "array(['2011-02-25T00:00:00.000000000', '2011-12-21T00:00:00.000000000',\n",
       "       '2016-01-14T00:00:00.000000000', ...,\n",
       "       '2013-10-20T00:00:00.000000000', '2014-02-07T00:00:00.000000000',\n",
       "       '2017-05-07T00:00:00.000000000'], dtype='datetime64[ns]')"
      ]
     },
     "execution_count": 181,
     "metadata": {},
     "output_type": "execute_result"
    }
   ],
   "source": [
    "df2['OBJECT_TYPE_SINDS'].unique()"
   ]
  },
  {
   "cell_type": "code",
   "execution_count": 182,
   "metadata": {},
   "outputs": [],
   "source": [
    "df2 = df2.sort_values(by = 'OBJECT_TYPE_SINDS')"
   ]
  },
  {
   "cell_type": "code",
   "execution_count": 183,
   "metadata": {},
   "outputs": [
    {
     "data": {
      "text/html": [
       "<div>\n",
       "<style scoped>\n",
       "    .dataframe tbody tr th:only-of-type {\n",
       "        vertical-align: middle;\n",
       "    }\n",
       "\n",
       "    .dataframe tbody tr th {\n",
       "        vertical-align: top;\n",
       "    }\n",
       "\n",
       "    .dataframe thead th {\n",
       "        text-align: right;\n",
       "    }\n",
       "</style>\n",
       "<table border=\"1\" class=\"dataframe\">\n",
       "  <thead>\n",
       "    <tr style=\"text-align: right;\">\n",
       "      <th></th>\n",
       "      <th>OBJECT_TYPE_SINDS</th>\n",
       "      <th>OBJECT_JAARVERBRUIK</th>\n",
       "    </tr>\n",
       "  </thead>\n",
       "  <tbody>\n",
       "    <tr>\n",
       "      <th>213630</th>\n",
       "      <td>2010-01-01</td>\n",
       "      <td>69.0</td>\n",
       "    </tr>\n",
       "    <tr>\n",
       "      <th>205634</th>\n",
       "      <td>2010-01-01</td>\n",
       "      <td>72.0</td>\n",
       "    </tr>\n",
       "    <tr>\n",
       "      <th>119869</th>\n",
       "      <td>2010-01-01</td>\n",
       "      <td>112.0</td>\n",
       "    </tr>\n",
       "    <tr>\n",
       "      <th>206599</th>\n",
       "      <td>2010-01-01</td>\n",
       "      <td>72.0</td>\n",
       "    </tr>\n",
       "    <tr>\n",
       "      <th>20433</th>\n",
       "      <td>2010-01-01</td>\n",
       "      <td>253.0</td>\n",
       "    </tr>\n",
       "  </tbody>\n",
       "</table>\n",
       "</div>"
      ],
      "text/plain": [
       "       OBJECT_TYPE_SINDS  OBJECT_JAARVERBRUIK\n",
       "213630        2010-01-01                 69.0\n",
       "205634        2010-01-01                 72.0\n",
       "119869        2010-01-01                112.0\n",
       "206599        2010-01-01                 72.0\n",
       "20433         2010-01-01                253.0"
      ]
     },
     "execution_count": 183,
     "metadata": {},
     "output_type": "execute_result"
    }
   ],
   "source": [
    "df2.head()"
   ]
  },
  {
   "cell_type": "code",
   "execution_count": 190,
   "metadata": {},
   "outputs": [
    {
     "data": {
      "text/plain": [
       "Text(0.5, 1.0, 'Total object verbuik')"
      ]
     },
     "execution_count": 190,
     "metadata": {},
     "output_type": "execute_result"
    },
    {
     "data": {
      "image/png": "[encoded data removed]",
      "text/plain": [
       "<Figure size 1080x288 with 1 Axes>"
      ]
     },
     "metadata": {},
     "output_type": "display_data"
    }
   ],
   "source": [
    "x = df2['OBJECT_TYPE_SINDS']\n",
    "y = df2['OBJECT_JAARVERBRUIK']\n",
    "\n",
    "plt.figure(figsize=(15,4))\n",
    "plt.plot(x, y)\n",
    "plt.title(\"Total object verbuik\")"
   ]
  },
  {
   "cell_type": "markdown",
   "metadata": {},
   "source": [
    "### TO Work out\n",
    "* Herhaling maar dan met gemiddelden\n",
    "* Check status: active keep, not active remove?\n",
    "* what about negative values (= returning money to customer)\n",
    "* Not sure what #Metingen means"
   ]
  },
  {
   "cell_type": "code",
   "execution_count": 215,
   "metadata": {},
   "outputs": [
    {
     "name": "stdout",
     "output_type": "stream",
     "text": [
      "datetime64[ns]\n"
     ]
    }
   ],
   "source": [
    "#Dates to Years, Months & Days\n",
    "print (df2['OBJECT_TYPE_SINDS'].dtype)\n",
    "\n",
    "df2['year'] = df2['OBJECT_TYPE_SINDS'].dt.year\n",
    "\n",
    "df2['month'] = df2['OBJECT_TYPE_SINDS'].dt.month\n",
    "\n",
    "df2['day'] = df2['OBJECT_TYPE_SINDS'].dt.day"
   ]
  },
  {
   "cell_type": "code",
   "execution_count": null,
   "metadata": {},
   "outputs": [],
   "source": [
    "### df2.head()"
   ]
  },
  {
   "cell_type": "code",
   "execution_count": null,
   "metadata": {},
   "outputs": [],
   "source": [
    "df_monthly = df2.copy()\n",
    "#df_monthly.index = df_monthly.index.month\n",
    "df_averages = df_monthly.groupby(df_monthly.index).mean()\n",
    "\n",
    "fig, axs = plt.subplots(1, 2, figsize=(12, 4))\n",
    "axs = axs.flat\n",
    "\n",
    "sns.boxplot(x=df_monthly.index, y=\"OBJECT_JAARVERBRUIK\", palette=\"coolwarm\", data=df_monthly, ax=axs[0])\n",
    "sns.barplot(x=df_averages.index, y=\"OBJECT_JAARVERBRUIK\", palette=\"coolwarm\", data=df_averages, ax=axs[1])\n",
    "\n",
    "#plt.tight_layout()\n",
    "plt.show()"
   ]
  }
 ],
 "metadata": {
  "kernelspec": {
   "display_name": "Python 3",
   "language": "python",
   "name": "python3"
  },
  "language_info": {
   "codemirror_mode": {
    "name": "ipython",
    "version": 3
   },
   "file_extension": ".py",
   "mimetype": "text/x-python",
   "name": "python",
   "nbconvert_exporter": "python",
   "pygments_lexer": "ipython3",
   "version": "3.8.3"
  }
 },
 "nbformat": 4,
 "nbformat_minor": 4
}
